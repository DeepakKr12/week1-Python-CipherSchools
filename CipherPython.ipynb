{
  "nbformat": 4,
  "nbformat_minor": 0,
  "metadata": {
    "colab": {
      "provenance": []
    },
    "kernelspec": {
      "name": "python3",
      "display_name": "Python 3"
    },
    "language_info": {
      "name": "python"
    }
  },
  "cells": [
    {
      "cell_type": "code",
      "execution_count": null,
      "metadata": {
        "colab": {
          "base_uri": "https://localhost:8080/"
        },
        "id": "oJ65SPQ6fxEV",
        "outputId": "4dd60a69-c200-4165-c629-732b5db37523"
      },
      "outputs": [
        {
          "output_type": "stream",
          "name": "stdout",
          "text": [
            "what is your name? Deepak\n",
            "hello Deepak\n",
            "what is your age?20\n",
            "your age is  20\n"
          ]
        }
      ],
      "source": [
        "name=input(\"what is your name? \")\n",
        "print(\"hello\"+\" \"+name)\n",
        "age=input(\"what is your age?\")\n",
        "print(\"your age is  \"+ age)"
      ]
    },
    {
      "cell_type": "code",
      "source": [
        "#Int() function in python\n",
        "num1=int(input(\"enter first number \"))\n",
        "num2=int(input(\"enter second number \"))\n",
        "total=num1+num2\n",
        "print(\"total is \"+ str(total))\n",
        "print(num1+num2)\n",
        "print(total)"
      ],
      "metadata": {
        "colab": {
          "base_uri": "https://localhost:8080/"
        },
        "id": "3-NNXYC-hFlM",
        "outputId": "92d32fc5-4f29-4ca1-841e-a07e4574cd18"
      },
      "execution_count": null,
      "outputs": [
        {
          "output_type": "stream",
          "name": "stdout",
          "text": [
            "enter first number 5\n",
            "enter second number 6\n",
            "total is 11\n",
            "11\n",
            "11\n"
          ]
        }
      ]
    },
    {
      "cell_type": "code",
      "source": [
        "name,age= \"Deepak\",20\n",
        "print(\"hello \"+name+ \" your age is \"+ str(age))"
      ],
      "metadata": {
        "colab": {
          "base_uri": "https://localhost:8080/"
        },
        "id": "iid0Z1_Rmmsj",
        "outputId": "58bcd271-d3d1-4a5b-c15f-d00f23b2d94e"
      },
      "execution_count": null,
      "outputs": [
        {
          "output_type": "stream",
          "name": "stdout",
          "text": [
            "hello Deepak your age is 20\n"
          ]
        }
      ]
    },
    {
      "cell_type": "code",
      "source": [
        "# two or more input in one line\n",
        "name,age= input(\"enter your name and age: \").split()\n",
        "print(name)\n",
        "print(age)"
      ],
      "metadata": {
        "colab": {
          "base_uri": "https://localhost:8080/"
        },
        "id": "mtSpfDBAnV_x",
        "outputId": "c6c33262-dbe7-405c-808d-af1c0a953b14"
      },
      "execution_count": null,
      "outputs": [
        {
          "output_type": "stream",
          "name": "stdout",
          "text": [
            "enter your name and age: deepak 20\n",
            "deepak\n",
            "20\n"
          ]
        }
      ]
    },
    {
      "cell_type": "code",
      "source": [
        "# String formatting\n",
        "name=\"Deepak\"\n",
        "age=20\n",
        "print(\"hello \"+name + \" your age is \"+ str(age))  #ugly syntex\n",
        "print(\"hello {} your age is {} \".format(name,age+2))\n",
        "print(f\"hello {name} your age is {age+2}\")"
      ],
      "metadata": {
        "colab": {
          "base_uri": "https://localhost:8080/"
        },
        "id": "muEF4nV2oUqt",
        "outputId": "157dc705-3acc-4cbc-e825-d1bfae111298"
      },
      "execution_count": null,
      "outputs": [
        {
          "output_type": "stream",
          "name": "stdout",
          "text": [
            "hello Deepak your age is 20\n",
            "hello Deepak your age is 22 \n",
            "hello Deepak your age is 22\n"
          ]
        }
      ]
    },
    {
      "cell_type": "code",
      "source": [
        "num1=int(input(\"1st num \"))\n",
        "num2=int(input(\"2nd num \"))\n",
        "num3=int(input(\"3rd num \"))\n",
        "# num1,num2,num3=input(\"enter 3 num comma separated: \").split(\",\")\n",
        "total=num1+num2+num3\n",
        "print(total//3)"
      ],
      "metadata": {
        "colab": {
          "base_uri": "https://localhost:8080/"
        },
        "id": "__OXXOr9ql14",
        "outputId": "d17dcd8b-7532-4c5f-f1c6-8693d92b17b2"
      },
      "execution_count": null,
      "outputs": [
        {
          "output_type": "stream",
          "name": "stdout",
          "text": [
            "1st num 4\n",
            "2nd num 5\n",
            "3rd num 3\n",
            "4\n"
          ]
        }
      ]
    },
    {
      "cell_type": "code",
      "source": [
        "# String Indexing\n",
        "language = \"python\"\n",
        "print(language[2])"
      ],
      "metadata": {
        "colab": {
          "base_uri": "https://localhost:8080/"
        },
        "id": "uEuEvHfIsrWH",
        "outputId": "6920c143-ab83-4dd3-af24-041ffe06d064"
      },
      "execution_count": null,
      "outputs": [
        {
          "output_type": "stream",
          "name": "stdout",
          "text": [
            "t\n"
          ]
        }
      ]
    },
    {
      "cell_type": "code",
      "source": [
        "# String Slicing\n",
        "lang=\"Python\"\n",
        "print(lang[1:3])"
      ],
      "metadata": {
        "colab": {
          "base_uri": "https://localhost:8080/"
        },
        "id": "Yaa8mweWxioX",
        "outputId": "557e82f2-76b6-4851-c5e5-64e85aa9506f"
      },
      "execution_count": null,
      "outputs": [
        {
          "output_type": "stream",
          "name": "stdout",
          "text": [
            "yt\n"
          ]
        }
      ]
    },
    {
      "cell_type": "code",
      "source": [
        "# Step Argument\n",
        "print(\"Important\"[1:8:2])"
      ],
      "metadata": {
        "colab": {
          "base_uri": "https://localhost:8080/"
        },
        "id": "KxVyzx18zBL8",
        "outputId": "beb97022-32eb-4642-f391-b2573384fc0f"
      },
      "execution_count": null,
      "outputs": [
        {
          "output_type": "stream",
          "name": "stdout",
          "text": [
            "motn\n"
          ]
        }
      ]
    },
    {
      "cell_type": "code",
      "source": [
        "# Chapter 2 Exercise 2\n",
        "name=input(\"enter your name: \")\n",
        "reverse = name[-1::-1]\n",
        "print(f\"reverse of your name is {reverse}\")"
      ],
      "metadata": {
        "colab": {
          "base_uri": "https://localhost:8080/"
        },
        "id": "n13LVuNmFj18",
        "outputId": "c7b6aa0a-9d76-4700-a1dc-bf7266c82136"
      },
      "execution_count": null,
      "outputs": [
        {
          "output_type": "stream",
          "name": "stdout",
          "text": [
            "enter your name: abcde\n",
            "reverse of your name is edcba\n"
          ]
        }
      ]
    },
    {
      "cell_type": "code",
      "source": [
        "# String method\n",
        "name= \"DeePak KumaR\"\n",
        "#  len() function\n",
        "lenth = len(name)\n",
        "print(lenth)\n",
        " \n",
        "# lower() method\n",
        "print(name.lower())\n",
        "\n",
        "# upper() method\n",
        "print(name.upper())\n",
        "\n",
        "# title method\n",
        "print(name.title())\n",
        "\n",
        "# count method\n",
        "print(name.count(\"e\"))"
      ],
      "metadata": {
        "colab": {
          "base_uri": "https://localhost:8080/"
        },
        "id": "kaiMzkJrHdIf",
        "outputId": "3a78bc1d-1fc7-4c6f-95b0-e9337169e871"
      },
      "execution_count": null,
      "outputs": [
        {
          "output_type": "stream",
          "name": "stdout",
          "text": [
            "12\n",
            "deepak kumar\n",
            "DEEPAK KUMAR\n",
            "Deepak Kumar\n",
            "2\n"
          ]
        }
      ]
    },
    {
      "cell_type": "code",
      "source": [
        "# chapter 2 exercise 2\n",
        "name,character= input(\"enter your name and single character \").split()\n",
        "print(len(name))\n",
        "# print(name.lower().count(char.lower())"
      ],
      "metadata": {
        "id": "qRT0YXl6ODmN"
      },
      "execution_count": null,
      "outputs": []
    },
    {
      "cell_type": "code",
      "source": [
        "# strip method\n",
        "name = \"    Deepak  Kumar    \"\n",
        "dots = \"..............\"\n",
        "print(name+dots)\n",
        "print(name.lstrip()+dots)\n",
        "print(name.rstrip()+dots)\n",
        "print(name.strip() + dots)\n",
        "print(name.replace(\" \",\"\")+dots)"
      ],
      "metadata": {
        "colab": {
          "base_uri": "https://localhost:8080/"
        },
        "id": "P8QiObSFRvon",
        "outputId": "99aadc95-b3bf-46c1-f1fe-2900de802041"
      },
      "execution_count": null,
      "outputs": [
        {
          "output_type": "stream",
          "name": "stdout",
          "text": [
            "    Deepak  Kumar    ..............\n",
            "Deepak  Kumar    ..............\n",
            "    Deepak  Kumar..............\n",
            "Deepak  Kumar..............\n",
            "DeepakKumar..............\n"
          ]
        }
      ]
    },
    {
      "cell_type": "code",
      "source": [
        "# find and replace method\n",
        "string = \"she is beautiful and she is good dancer\"\n",
        "print(string.replace(\" \",\"_\"))\n",
        "print(string.replace(\"beautiful\",\"nice\"))"
      ],
      "metadata": {
        "colab": {
          "base_uri": "https://localhost:8080/"
        },
        "id": "rFcqhoFSUODU",
        "outputId": "1747fff3-fe06-486d-bb46-72221526662d"
      },
      "execution_count": null,
      "outputs": [
        {
          "output_type": "stream",
          "name": "stdout",
          "text": [
            "she_is_beautiful_and_she_is_good_dancer\n",
            "she is nice and she is good dancer\n"
          ]
        }
      ]
    },
    {
      "cell_type": "code",
      "source": [
        "# center method\n",
        "name=input(\"enter your name: \")\n",
        "print(name.center(len(name)+8, \"@\"))"
      ],
      "metadata": {
        "colab": {
          "base_uri": "https://localhost:8080/"
        },
        "id": "9s34H2chVYb9",
        "outputId": "baf0e9b1-11b8-4be5-b8e0-3098e523a8a4"
      },
      "execution_count": null,
      "outputs": [
        {
          "output_type": "stream",
          "name": "stdout",
          "text": [
            "enter your name: Deepak\n",
            "@@@@Deepak@@@@\n"
          ]
        }
      ]
    },
    {
      "cell_type": "code",
      "source": [
        "# \"if\" statement\n",
        "age =int(input(\"enter your age: \"))\n",
        "if age >= 15:\n",
        "  print(\"you are eligible\")\n",
        "else:\n",
        "  print(\"you are not elibible\")\n"
      ],
      "metadata": {
        "colab": {
          "base_uri": "https://localhost:8080/"
        },
        "id": "gdqaLh7fY7Om",
        "outputId": "062f9f95-4e28-40bd-9de1-4f0f49d11c4b"
      },
      "execution_count": null,
      "outputs": [
        {
          "output_type": "stream",
          "name": "stdout",
          "text": [
            "enter your age: 14\n",
            "you are not elibible\n"
          ]
        }
      ]
    },
    {
      "cell_type": "code",
      "source": [
        "# chapter 3 exercise 1\n",
        "winning_number = 36\n",
        "user_input = int(input(\"enter a number btw 1 and 100: \"))\n",
        "if user_input == winning_number:\n",
        "  print(\"YOU WIN!!!\")\n",
        "else:\n",
        "  if user_input < winning_number:\n",
        "    print(\"Too low\")\n",
        "  else:\n",
        "    print(\"Too high\")"
      ],
      "metadata": {
        "colab": {
          "base_uri": "https://localhost:8080/"
        },
        "id": "esi0a8u4bQaq",
        "outputId": "76639e01-3271-4d81-eba1-a8d1823363dc"
      },
      "execution_count": null,
      "outputs": [
        {
          "output_type": "stream",
          "name": "stdout",
          "text": [
            "enter a number btw 1 and 100: 36\n",
            "YOU WIN!!!\n"
          ]
        }
      ]
    },
    {
      "cell_type": "code",
      "source": [
        "# \"AND\" \"OR\" opertor"
      ],
      "metadata": {
        "id": "96XKVjiYc_HW"
      },
      "execution_count": null,
      "outputs": []
    },
    {
      "cell_type": "code",
      "source": [
        "# chapter 3 exercise 2\n",
        "name = input(\"enter your name: \")\n",
        "age = int(input())\n",
        "if age >= 10 and (name[0] == 'a' or name[0] == 'A'):\n",
        "  print(\"you can watch coco movie\")\n",
        "else:\n",
        "  print(\"sorry, you cannot watch coco\")  "
      ],
      "metadata": {
        "colab": {
          "base_uri": "https://localhost:8080/"
        },
        "id": "x-zmrU5Od0p0",
        "outputId": "08cfed24-e968-45ea-976d-e379538f22bb"
      },
      "execution_count": null,
      "outputs": [
        {
          "output_type": "stream",
          "name": "stdout",
          "text": [
            "enter your name: anurag 16\n",
            "16\n",
            "you can watch coco movie\n"
          ]
        }
      ]
    },
    {
      "cell_type": "code",
      "source": [
        "# \"IN\" keyword\n",
        "name = \"Ironman\"\n",
        "if 'n'in name:\n",
        "  print(\"True\")\n",
        "else:\n",
        "  print(\"False\")"
      ],
      "metadata": {
        "colab": {
          "base_uri": "https://localhost:8080/"
        },
        "id": "hzXwKvzCiqXO",
        "outputId": "69ce8e6a-b0ae-4dfc-9049-8f9dee96e9f3"
      },
      "execution_count": null,
      "outputs": [
        {
          "output_type": "stream",
          "name": "stdout",
          "text": [
            "True\n"
          ]
        }
      ]
    },
    {
      "cell_type": "code",
      "source": [
        "# check empty or not\n",
        "name = input(\"enter your name: \")\n",
        "\n",
        "if name:\n",
        "  print(f\"your name is {name}\")\n",
        "else:\n",
        "  print(\"you didn\\'t type anything\")"
      ],
      "metadata": {
        "colab": {
          "base_uri": "https://localhost:8080/"
        },
        "id": "1AZBUFpqj2eY",
        "outputId": "d31355f5-f040-41ef-b083-024f52a5f6ae"
      },
      "execution_count": null,
      "outputs": [
        {
          "output_type": "stream",
          "name": "stdout",
          "text": [
            "enter your name: \n",
            "you didn't type anything\n"
          ]
        }
      ]
    },
    {
      "cell_type": "code",
      "source": [
        "# while loop\n",
        "i = 1\n",
        "while i <= 10:\n",
        "  print(f\"hello world {i}\")\n",
        "  i = i+1"
      ],
      "metadata": {
        "id": "i340MliyltZA"
      },
      "execution_count": null,
      "outputs": []
    },
    {
      "cell_type": "code",
      "source": [
        "# sum of numbers\n",
        "total=0\n",
        "i = 1\n",
        "while i <= 10:\n",
        "  total += i\n",
        "  i += 1\n",
        "print(total)\n"
      ],
      "metadata": {
        "colab": {
          "base_uri": "https://localhost:8080/"
        },
        "id": "1s7tqZg0mT-x",
        "outputId": "acf6cde3-0f28-4a0d-f3f8-c5ee062f0802"
      },
      "execution_count": null,
      "outputs": [
        {
          "output_type": "stream",
          "name": "stdout",
          "text": [
            "55\n"
          ]
        }
      ]
    },
    {
      "cell_type": "code",
      "source": [
        "# chapter 3 exercise 3"
      ],
      "metadata": {
        "id": "iK79QJ33nYc7"
      },
      "execution_count": null,
      "outputs": []
    }
  ]
}