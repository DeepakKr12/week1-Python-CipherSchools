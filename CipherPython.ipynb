{
  "nbformat": 4,
  "nbformat_minor": 0,
  "metadata": {
    "colab": {
      "provenance": []
    },
    "kernelspec": {
      "name": "python3",
      "display_name": "Python 3"
    },
    "language_info": {
      "name": "python"
    }
  },
  "cells": [
    {
      "cell_type": "code",
      "execution_count": null,
      "metadata": {
        "id": "oJ65SPQ6fxEV"
      },
      "outputs": [],
      "source": [
        "name=input(\"what is your name? \")\n",
        "print(\"hello\"+\" \"+name)\n",
        "age=input(\"what is your age?\")\n",
        "print(\"your age is  \"+ age)"
      ]
    },
    {
      "cell_type": "code",
      "source": [
        "#Int() function in python\n",
        "num1=int(input(\"enter first number \"))\n",
        "num2=int(input(\"enter second number \"))\n",
        "total=num1+num2\n",
        "print(\"total is \"+ str(total))\n",
        "print(num1+num2)\n",
        "print(total)"
      ],
      "metadata": {
        "id": "3-NNXYC-hFlM"
      },
      "execution_count": null,
      "outputs": []
    },
    {
      "cell_type": "code",
      "source": [
        "name,age= \"Deepak\",20\n",
        "print(\"hello \"+name+ \" your age is \"+ str(age))"
      ],
      "metadata": {
        "id": "iid0Z1_Rmmsj"
      },
      "execution_count": null,
      "outputs": []
    },
    {
      "cell_type": "code",
      "source": [
        "# two or more input in one line\n",
        "name,age= input(\"enter your name and age: \").split()\n",
        "print(name)\n",
        "print(age)"
      ],
      "metadata": {
        "id": "mtSpfDBAnV_x"
      },
      "execution_count": null,
      "outputs": []
    },
    {
      "cell_type": "code",
      "source": [
        "# String formatting\n",
        "name=\"Deepak\"\n",
        "age=20\n",
        "print(\"hello \"+name + \" your age is \"+ str(age))  #ugly syntex\n",
        "print(\"hello {} your age is {} \".format(name,age+2))\n",
        "print(f\"hello {name} your age is {age+2}\")"
      ],
      "metadata": {
        "id": "muEF4nV2oUqt"
      },
      "execution_count": null,
      "outputs": []
    },
    {
      "cell_type": "code",
      "source": [
        "num1=int(input(\"1st num \"))\n",
        "num2=int(input(\"2nd num \"))\n",
        "num3=int(input(\"3rd num \"))\n",
        "# num1,num2,num3=input(\"enter 3 num comma separated: \").split(\",\")\n",
        "total=num1+num2+num3\n",
        "print(total//3)"
      ],
      "metadata": {
        "id": "__OXXOr9ql14"
      },
      "execution_count": null,
      "outputs": []
    },
    {
      "cell_type": "code",
      "source": [
        "# String Indexing\n",
        "language = \"python\"\n",
        "print(language[2])"
      ],
      "metadata": {
        "id": "uEuEvHfIsrWH"
      },
      "execution_count": null,
      "outputs": []
    },
    {
      "cell_type": "code",
      "source": [
        "# String Slicing\n",
        "lang=\"Python\"\n",
        "print(lang[1:3])"
      ],
      "metadata": {
        "id": "Yaa8mweWxioX"
      },
      "execution_count": null,
      "outputs": []
    },
    {
      "cell_type": "code",
      "source": [
        "# Step Argument\n",
        "print(\"Important\"[1:8:2])"
      ],
      "metadata": {
        "id": "KxVyzx18zBL8"
      },
      "execution_count": null,
      "outputs": []
    },
    {
      "cell_type": "code",
      "source": [
        "# Chapter 2 Exercise 2\n",
        "name=input(\"enter your name: \")\n",
        "reverse = name[-1::-1]\n",
        "print(f\"reverse of your name is {reverse}\")"
      ],
      "metadata": {
        "id": "n13LVuNmFj18"
      },
      "execution_count": null,
      "outputs": []
    },
    {
      "cell_type": "code",
      "source": [
        "# String method\n",
        "name= \"DeePak KumaR\"\n",
        "#  len() function\n",
        "lenth = len(name)\n",
        "print(lenth)\n",
        " \n",
        "# lower() method\n",
        "print(name.lower())\n",
        "\n",
        "# upper() method\n",
        "print(name.upper())\n",
        "\n",
        "# title method\n",
        "print(name.title())\n",
        "\n",
        "# count method\n",
        "print(name.count(\"e\"))"
      ],
      "metadata": {
        "id": "kaiMzkJrHdIf"
      },
      "execution_count": null,
      "outputs": []
    },
    {
      "cell_type": "code",
      "source": [
        "# chapter 2 exercise 2\n",
        "name,character= input(\"enter your name and single character \").split()\n",
        "print(len(name))\n",
        "# print(name.lower().count(char.lower())"
      ],
      "metadata": {
        "id": "qRT0YXl6ODmN"
      },
      "execution_count": null,
      "outputs": []
    },
    {
      "cell_type": "code",
      "source": [
        "# strip method\n",
        "name = \"    Deepak  Kumar    \"\n",
        "dots = \"..............\"\n",
        "print(name+dots)\n",
        "print(name.lstrip()+dots)\n",
        "print(name.rstrip()+dots)\n",
        "print(name.strip() + dots)\n",
        "print(name.replace(\" \",\"\")+dots)"
      ],
      "metadata": {
        "id": "P8QiObSFRvon"
      },
      "execution_count": null,
      "outputs": []
    },
    {
      "cell_type": "code",
      "source": [
        "# find and replace method\n",
        "string = \"she is beautiful and she is good dancer\"\n",
        "print(string.replace(\" \",\"_\"))\n",
        "print(string.replace(\"beautiful\",\"nice\"))"
      ],
      "metadata": {
        "id": "rFcqhoFSUODU"
      },
      "execution_count": null,
      "outputs": []
    },
    {
      "cell_type": "code",
      "source": [
        "# center method\n",
        "name=input(\"enter your name: \")\n",
        "print(name.center(len(name)+8, \"@\"))"
      ],
      "metadata": {
        "id": "9s34H2chVYb9"
      },
      "execution_count": null,
      "outputs": []
    },
    {
      "cell_type": "code",
      "source": [
        "# \"if\" statement\n",
        "age =int(input(\"enter your age: \"))\n",
        "if age >= 15:\n",
        "  print(\"you are eligible\")\n",
        "else:\n",
        "  print(\"you are not elibible\")\n"
      ],
      "metadata": {
        "id": "gdqaLh7fY7Om"
      },
      "execution_count": null,
      "outputs": []
    },
    {
      "cell_type": "code",
      "source": [
        "# chapter 3 exercise 1\n",
        "winning_number = 36\n",
        "user_input = int(input(\"enter a number btw 1 and 100: \"))\n",
        "if user_input == winning_number:\n",
        "  print(\"YOU WIN!!!\")\n",
        "else:\n",
        "  if user_input < winning_number:\n",
        "    print(\"Too low\")\n",
        "  else:\n",
        "    print(\"Too high\")"
      ],
      "metadata": {
        "id": "esi0a8u4bQaq"
      },
      "execution_count": null,
      "outputs": []
    },
    {
      "cell_type": "code",
      "source": [
        "# \"AND\" \"OR\" opertor"
      ],
      "metadata": {
        "id": "96XKVjiYc_HW"
      },
      "execution_count": null,
      "outputs": []
    },
    {
      "cell_type": "code",
      "source": [
        "# chapter 3 exercise 2\n",
        "name = input(\"enter your name: \")\n",
        "age = int(input())\n",
        "if age >= 10 and (name[0] == 'a' or name[0] == 'A'):\n",
        "  print(\"you can watch coco movie\")\n",
        "else:\n",
        "  print(\"sorry, you cannot watch coco\")  "
      ],
      "metadata": {
        "id": "x-zmrU5Od0p0"
      },
      "execution_count": null,
      "outputs": []
    },
    {
      "cell_type": "code",
      "source": [
        "# \"IN\" keyword\n",
        "name = \"Ironman\"\n",
        "if 'n'in name:\n",
        "  print(\"True\")\n",
        "else:\n",
        "  print(\"False\")"
      ],
      "metadata": {
        "id": "hzXwKvzCiqXO"
      },
      "execution_count": null,
      "outputs": []
    },
    {
      "cell_type": "code",
      "source": [
        "# check empty or not\n",
        "name = input(\"enter your name: \")\n",
        "\n",
        "if name:\n",
        "  print(f\"your name is {name}\")\n",
        "else:\n",
        "  print(\"you didn\\'t type anything\")"
      ],
      "metadata": {
        "id": "1AZBUFpqj2eY"
      },
      "execution_count": null,
      "outputs": []
    },
    {
      "cell_type": "code",
      "source": [
        "# while loop\n",
        "i = 1\n",
        "while i <= 10:\n",
        "  print(f\"hello world {i}\")\n",
        "  i = i+1"
      ],
      "metadata": {
        "id": "i340MliyltZA"
      },
      "execution_count": null,
      "outputs": []
    },
    {
      "cell_type": "code",
      "source": [
        "# sum of numbers\n",
        "total=0\n",
        "i = 1\n",
        "while i <= 10:\n",
        "  total += i\n",
        "  i += 1\n",
        "print(total)\n"
      ],
      "metadata": {
        "id": "1s7tqZg0mT-x"
      },
      "execution_count": null,
      "outputs": []
    },
    {
      "cell_type": "code",
      "source": [
        "# chapter 3 exercise 3\n",
        "n = int(input(\"enter a number: \"))\n",
        "total=0\n",
        "i = 1\n",
        "while i <= n:\n",
        "  total += i\n",
        "  i += 1\n",
        "print(total)"
      ],
      "metadata": {
        "id": "iK79QJ33nYc7"
      },
      "execution_count": null,
      "outputs": []
    },
    {
      "cell_type": "code",
      "source": [
        "# Exercise 4\n",
        "usernum = input(\"enter a number: \")\n",
        "# n = len(usernum)\n",
        "# m = int(usernum[i])\n",
        "total = 0\n",
        "i = 0\n",
        "while i < len(usernum):\n",
        "  total += int(usernum[i])\n",
        "  i += 1\n",
        "print(total)"
      ],
      "metadata": {
        "id": "L49q7sR31hy2"
      },
      "execution_count": null,
      "outputs": []
    },
    {
      "cell_type": "code",
      "source": [
        "# Exercise 5\n",
        "name=input(\"please enter your name: \")\n",
        "temp_var = \"\"\n",
        "i = 0\n",
        "while i < len(name):\n",
        "  if name[i] not in temp_var:\n",
        "    temp_var += name[i]\n",
        "    print(f\"{name[i]} : {name.count(name[i])}\")\n",
        "  i += 1\n"
      ],
      "metadata": {
        "id": "ZL5W3-en5wWr"
      },
      "execution_count": null,
      "outputs": []
    }
  ]
}